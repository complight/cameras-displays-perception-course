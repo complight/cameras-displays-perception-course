{
 "cells": [
  {
   "cell_type": "code",
   "execution_count": 1,
   "metadata": {
    "colab": {
     "base_uri": "https://localhost:8080/"
    },
    "id": "meOXWIXwiMCy",
    "outputId": "8bdf7602-591b-41d1-86fa-cb54725b134a"
   },
   "outputs": [],
   "source": [
    "import torch\n",
    "import torch.nn\n",
    "from odak.learn.tools import convolve2d,zero_pad,crop_center,load_image,save_image\n",
    "from tqdm import tqdm,trange\n",
    "\n",
    "if torch.cuda.is_available():\n",
    "    device = torch.device(\"cuda\")"
   ]
  },
  {
   "cell_type": "code",
   "execution_count": 2,
   "metadata": {
    "id": "nXyfkPDyncqp"
   },
   "outputs": [],
   "source": [
    "class optimizer:\n",
    "\n",
    "    def __init__(self, psf):\n",
    "        self.psf  = zero_pad(psf)\n",
    "        self.loss_func = [\n",
    "                          torch.nn.MSELoss(),\n",
    "                         ]\n",
    "        \n",
    "    def evaluate(self,scene_estimate,image_sensor_estimate,image_sensor_ground_truth,w=[1.,0.01]):\n",
    "        loss        = w[0]*self.loss_func[0](image_sensor_estimate,image_sensor_ground_truth)\n",
    "        return loss\n",
    "        \n",
    "    def forward(self,scene):\n",
    "        image_sensor_padded = convolve2d(scene,self.psf)\n",
    "        return crop_center(image_sensor_padded)\n",
    "\n",
    "    def solve(self,image_sensor,n_iterations,device):\n",
    "        scene         = torch.zeros(self.psf.shape).detach().to(device).requires_grad_()\n",
    "        optimizer     = torch.optim.Adam(lr=0.001, params=[scene,])\n",
    "        t             = tqdm(range(n_iterations),leave=True)\n",
    "        zero          = torch.tensor([0]).to(device)\n",
    "        for i in t:\n",
    "            optimizer.zero_grad()\n",
    "            reconstruction = self.forward(scene)\n",
    "            loss           = self.evaluate(scene,reconstruction,image_sensor)\n",
    "            description    = \"Iteration:{}, Loss:{:.4f}\".format(i,loss.item())\n",
    "            loss.backward(retain_graph=True)\n",
    "            optimizer.step()\n",
    "            t.set_description(description)\n",
    "        torch.no_grad()\n",
    "        return crop_center(scene.detach())"
   ]
  },
  {
   "cell_type": "code",
   "execution_count": 3,
   "metadata": {},
   "outputs": [],
   "source": [
    "def resize(image,mul=0.5):\n",
    "    scale     = torch.nn.Upsample(scale_factor=mul, mode='bilinear')\n",
    "    new_image = torch.zeros((int(image.shape[0]*mul),int(image.shape[1]*mul),3)).to(image.device)\n",
    "    for i in range(3):\n",
    "        cache            = image[:,:,i].unsqueeze(0)\n",
    "        cache            = cache.unsqueeze(0)\n",
    "        new_cache        = scale(cache).unsqueeze(0)\n",
    "        new_image[:,:,i] = new_cache.unsqueeze(0)\n",
    "    return new_image"
   ]
  },
  {
   "cell_type": "code",
   "execution_count": 4,
   "metadata": {
    "colab": {
     "base_uri": "https://localhost:8080/"
    },
    "id": "02och67jiPcA",
    "outputId": "5f8d89b1-027c-41ac-e2dd-26d1edf6e310",
    "scrolled": true
   },
   "outputs": [
    {
     "name": "stderr",
     "output_type": "stream",
     "text": [
      "  0%|                                                                                                                                                                                      | 0/300 [00:00<?, ?it/s]/home/kaan/.local/lib/python3.10/site-packages/torch/autograd/__init__.py:173: UserWarning: Casting complex values to real discards the imaginary part (Triggered internally at  ../aten/src/ATen/native/Copy.cpp:239.)\n",
      "  Variable._execution_engine.run_backward(  # Calls into the C++ engine to run the backward pass\n",
      "Iteration:299, Loss:0.0001: 100%|████████████████████████████████████████████████████████████████████████████████████████████████████████████████████████████████████████████████| 300/300 [00:06<00:00, 46.52it/s]\n",
      "Iteration:299, Loss:0.0001: 100%|████████████████████████████████████████████████████████████████████████████████████████████████████████████████████████████████████████████████| 300/300 [00:06<00:00, 47.31it/s]\n",
      "Iteration:299, Loss:0.0001: 100%|████████████████████████████████████████████████████████████████████████████████████████████████████████████████████████████████████████████████| 300/300 [00:06<00:00, 47.28it/s]\n"
     ]
    }
   ],
   "source": [
    "n_iterations               = 300\n",
    "mul                        = 1/2.\n",
    "psf                        = load_image('images/psf.jpg').to(device).float()\n",
    "image_sensor               = load_image('images/hnd.jpg').to(device).float()\n",
    "psf                        = resize(psf,mul=mul)\n",
    "image_sensor               = resize(image_sensor,mul=mul)\n",
    "image_sensor               = (image_sensor-image_sensor.min())/(image_sensor.max()-image_sensor.min())\n",
    "psf                        = (psf-psf.min())/(psf.max()-psf.min())\n",
    "psf.requires_grad          = False\n",
    "image_sensor.requires_grad = False\n",
    "\n",
    "y = torch.zeros((image_sensor.shape[0],image_sensor.shape[1],3))\n",
    "for i in [0,1,2]:\n",
    "    solver   = optimizer(psf[:,:,i])\n",
    "    y[:,:,i] = solver.solve(image_sensor[:,:,i],n_iterations,device)"
   ]
  },
  {
   "cell_type": "code",
   "execution_count": 5,
   "metadata": {
    "colab": {
     "base_uri": "https://localhost:8080/",
     "height": 613
    },
    "id": "a4yMqSA0mD0o",
    "outputId": "3d7e26aa-74af-43de-b28e-ec517070405a",
    "scrolled": true
   },
   "outputs": [
    {
     "name": "stdout",
     "output_type": "stream",
     "text": [
      "tensor(5.1396e-05) tensor(-1.9580e-05)\n"
     ]
    },
    {
     "data": {
      "text/plain": [
       "True"
      ]
     },
     "execution_count": 5,
     "metadata": {},
     "output_type": "execute_result"
    }
   ],
   "source": [
    "print(y.max(),y.min())\n",
    "z = y.detach().clone()\n",
    "m = (z-z.min())/(z.max()-z.min())*255.\n",
    "m = m.detach().cpu()\n",
    "\n",
    "save_image('result.png',m)"
   ]
  }
 ],
 "metadata": {
  "accelerator": "GPU",
  "colab": {
   "authorship_tag": "ABX9TyNtUH61EzHVUMUf94SsZCYF",
   "collapsed_sections": [],
   "include_colab_link": true,
   "mount_file_id": "1BzFQ0OVAkuxYSwV8Tu-mwbopVUlKM0kj",
   "name": "pi.ipynb",
   "provenance": []
  },
  "kernelspec": {
   "display_name": "Python 3 (ipykernel)",
   "language": "python",
   "name": "python3"
  },
  "language_info": {
   "codemirror_mode": {
    "name": "ipython",
    "version": 3
   },
   "file_extension": ".py",
   "mimetype": "text/x-python",
   "name": "python",
   "nbconvert_exporter": "python",
   "pygments_lexer": "ipython3",
   "version": "3.10.4"
  }
 },
 "nbformat": 4,
 "nbformat_minor": 1
}
